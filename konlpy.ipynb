{
  "nbformat": 4,
  "nbformat_minor": 0,
  "metadata": {
    "colab": {
      "provenance": []
    },
    "kernelspec": {
      "name": "python3",
      "display_name": "Python 3"
    },
    "language_info": {
      "name": "python"
    }
  },
  "cells": [
    {
      "cell_type": "code",
      "execution_count": null,
      "metadata": {
        "colab": {
          "base_uri": "https://localhost:8080/"
        },
        "id": "HQ3WMq4qKhJx",
        "outputId": "ebab33f5-1879-407d-f978-982b57e7bc5e"
      },
      "outputs": [
        {
          "output_type": "stream",
          "name": "stdout",
          "text": [
            "Collecting konlpy\n",
            "  Downloading konlpy-0.6.0-py2.py3-none-any.whl (19.4 MB)\n",
            "\u001b[2K     \u001b[90m━━━━━━━━━━━━━━━━━━━━━━━━━━━━━━━━━━━━━━━━\u001b[0m \u001b[32m19.4/19.4 MB\u001b[0m \u001b[31m43.0 MB/s\u001b[0m eta \u001b[36m0:00:00\u001b[0m\n",
            "\u001b[?25hCollecting JPype1>=0.7.0 (from konlpy)\n",
            "  Downloading JPype1-1.5.0-cp310-cp310-manylinux_2_17_x86_64.manylinux2014_x86_64.whl (488 kB)\n",
            "\u001b[2K     \u001b[90m━━━━━━━━━━━━━━━━━━━━━━━━━━━━━━━━━━━━━━━━\u001b[0m \u001b[32m488.6/488.6 kB\u001b[0m \u001b[31m41.4 MB/s\u001b[0m eta \u001b[36m0:00:00\u001b[0m\n",
            "\u001b[?25hRequirement already satisfied: lxml>=4.1.0 in /usr/local/lib/python3.10/dist-packages (from konlpy) (4.9.4)\n",
            "Requirement already satisfied: numpy>=1.6 in /usr/local/lib/python3.10/dist-packages (from konlpy) (1.23.5)\n",
            "Requirement already satisfied: packaging in /usr/local/lib/python3.10/dist-packages (from JPype1>=0.7.0->konlpy) (23.2)\n",
            "Installing collected packages: JPype1, konlpy\n",
            "Successfully installed JPype1-1.5.0 konlpy-0.6.0\n"
          ]
        }
      ],
      "source": [
        "pip install konlpy"
      ]
    },
    {
      "cell_type": "code",
      "source": [
        "## 동사 형태소 레시피에서 가져오기\n",
        "import pandas as pd\n",
        "from konlpy.tag import Okt\n",
        "\n",
        "# CSV 파일 로드\n",
        "df = pd.read_csv('/content/drive/MyDrive/wimf/ONLY_food_recipe_dataframe.csv', encoding='utf-8')\n",
        "\n",
        "# 형태소 분석 함수 정의 (동사 형태소만 추출)\n",
        "def extract_verbs(text):\n",
        "    okt = Okt()\n",
        "    if pd.notna(text):  # 결측값이 아닌 경우에만 분석 수행\n",
        "        pos_tags = okt.pos(text)\n",
        "        verbs = [word for word, pos in pos_tags if pos.startswith('V')]\n",
        "        return verbs\n",
        "    else:\n",
        "        return []\n",
        "\n",
        "# 형태소 분석을 적용하여 새로운 열 생성\n",
        "df['verbs'] = df['food_recipe'].apply(extract_verbs)\n",
        "\n",
        "# 결측값을 제외한 행만을 포함하는 데이터프레임 생성\n",
        "df_no_missing = df.dropna(subset=['food_recipe'])\n",
        "\n",
        "# 새로운 CSV 파일로 저장 (결측값이 있는 행만을 저장)\n",
        "df_missing = df[df['food_recipe'].isna()]\n",
        "df_missing.to_csv('food_recipe_missing.csv', index=False, encoding='utf-8')\n",
        "print(\"food_recipe_missing.csv가 만들어졌습니다.\")\n",
        "\n",
        "# 결측값이 없는 행을 저장하는 CSV 파일 생성\n",
        "df_no_missing.to_csv('food_recipe_verbs_no_missing.csv', index=False, encoding='utf-8')\n",
        "print(\"food_recipe_verbs_no_missing.csv가 만들어졌습니다.\")\n"
      ],
      "metadata": {
        "colab": {
          "base_uri": "https://localhost:8080/"
        },
        "id": "YSKPqAhlVNh6",
        "outputId": "42b748ab-d664-4109-d6dd-1d13afb10424"
      },
      "execution_count": null,
      "outputs": [
        {
          "output_type": "stream",
          "name": "stdout",
          "text": [
            "food_recipe_missing.csv가 만들어졌습니다.\n",
            "food_recipe_verbs_no_missing.csv가 만들어졌습니다.\n"
          ]
        }
      ]
    },
    {
      "cell_type": "code",
      "source": [
        "import pandas as pd\n",
        "from konlpy.tag import Okt\n",
        "\n",
        "# CSV 파일 로드\n",
        "df = pd.read_csv('/content/drive/MyDrive/wimf/food_recipe_verbs_no_missing.csv', encoding='utf-8')\n",
        "\n",
        "# 주어진 동사 리스트\n",
        "given_verbs = ['자르', '잘라', '베', '썰', '볶', '다져', '다진', '삶', '끓', '섞', '씻', '찍', '익은', '익히', '넣', '썰', '뿌', '썰', '썹', '썬', '구워', '굽', '다듬', '섞', '자릅', '잘', '갈아', '튀겨', '튀']\n",
        "\n",
        "# 주어진 동사 리스트에 해당하는 동사만을 추출\n",
        "filtered_verbs = [verb for verb in given_verbs if verb not in df['verbs'].explode().unique()]\n",
        "\n",
        "# 동사가 포함되지 않은 행만을 추출하여 새로운 데이터프레임 생성\n",
        "df_filtered = df[df['verbs'].apply(lambda x: all(verb not in x for verb in filtered_verbs))]\n",
        "\n",
        "# 새로운 CSV 파일로 저장\n",
        "df_filtered.to_csv('food_recipe_verbs_filtered.csv', index=False, encoding='utf-8')\n",
        "print(\"food_recipe_verbs_filtered_X.csv가 만들어졌습니다.\")\n"
      ],
      "metadata": {
        "id": "TxvZh8u_h9RU"
      },
      "execution_count": null,
      "outputs": []
    },
    {
      "cell_type": "code",
      "source": [
        "import pandas as pd\n",
        "from konlpy.tag import Okt\n",
        "\n",
        "# CSV 파일 로드\n",
        "df = pd.read_csv('/content/food_recipe_verbs_no_missing.csv', encoding='utf-8')\n",
        "\n",
        "# 주어진 동사 리스트\n",
        "given_verbs = ['자르', '잘라', '베', '썰', '볶', '다져', '다진', '삶', '끓', '섞', '씻', '찍', '익은', '익히', '넣', '썰', '뿌', '썰', '썹', '썬', '구워', '굽', '다듬', '섞', '자릅', '잘', '갈아', '튀겨', '튀']\n",
        "\n",
        "# 주어진 동사 리스트에 해당하는 동사만을 추출\n",
        "filtered_verbs = [verb for verb in given_verbs if verb in df['verbs'].explode().unique()]\n",
        "\n",
        "# 동사 리스트의 각 단어가 파일 안에 있는 동사에 포함되는 경우를 추출\n",
        "df_filtered = df[df['verbs'].apply(lambda x: any(verb in x for verb in filtered_verbs))]\n",
        "\n",
        "# 새로운 CSV 파일로 저장\n",
        "df_filtered.to_csv('food_recipe_verbs_filtered.csv', index=False, encoding='utf-8')\n",
        "print(\"food_recipe_verbs_filtered_O.csv가 만들어졌습니다.\")\n"
      ],
      "metadata": {
        "id": "V5eDUAbsh_0C"
      },
      "execution_count": null,
      "outputs": []
    },
    {
      "cell_type": "code",
      "source": [
        "import pandas as pd\n",
        "from konlpy.tag import Okt\n",
        "\n",
        "# CSV 파일 로드\n",
        "df = pd.read_csv('/content/food_recipe_verbs_no_missing.csv', encoding='utf-8')\n",
        "\n",
        "# 주어진 동사 리스트\n",
        "given_verbs = ['자르', '잘라', '베', '썰', '볶', '다져', '다진', '삶', '끓', '섞', '씻', '찍', '익은', '익히', '넣', '썰', '뿌', '썰', '썹', '썬', '구워', '굽', '다듬', '섞', '자릅', '잘', '갈아', '튀겨', '튀']\n",
        "\n",
        "# 'verbs_yes'와 'verbs_no' 열 생성\n",
        "df['verbs_yes'] = df['verbs'].apply(lambda x: [verb for verb in given_verbs if verb in x])\n",
        "df['verbs_no'] = df['verbs'].apply(lambda x: [verb for verb in given_verbs if verb not in x])\n",
        "\n",
        "# 'verbs_yes'에서 해당되는 동사 문자열 전체를 리스트에 추가\n",
        "df['verbs_yes'] = df['verbs_yes'].apply(lambda x: [verb + '다' for verb in x])\n",
        "\n",
        "# 'verbs_no'에는 'verbs'에서 'verbs_yes'에 해당되는 동사 문자열을 뺀 모든 동사 문자열을 넣어줌\n",
        "df['verbs_no'] = df.apply(lambda row: [verb for verb in row['verbs'].split() if verb not in row['verbs_yes']], axis=1)\n",
        "\n",
        "# 새로운 CSV 파일로 저장\n",
        "df.to_csv('food_recipe_verbs_indexed.csv', index=False, encoding='utf-8')\n",
        "print(\"food_recipe_verbs_indexed.csv가 만들어졌습니다.\")\n"
      ],
      "metadata": {
        "id": "9SgPjIOKlaUE"
      },
      "execution_count": null,
      "outputs": []
    },
    {
      "cell_type": "code",
      "source": [
        "import pandas as pd\n",
        "from konlpy.tag import Okt\n",
        "\n",
        "# CSV 파일 로드\n",
        "df = pd.read_csv('/content/food_recipe_verbs_no_missing.csv', encoding='utf-8')\n",
        "\n",
        "# 주어진 동사 리스트\n",
        "given_verbs = ['자르', '잘라', '베', '썰', '볶', '다져', '다진', '삶', '끓', '섞', '씻', '찍', '익은', '익히', '넣', '썰', '뿌', '썰', '썹', '썬', '구워', '굽', '다듬', '섞', '자릅', '잘', '갈아', '튀겨', '튀']\n",
        "\n",
        "# 'verbs_yes'와 'verbs_no' 열 생성\n",
        "df['verbs_yes'] = df['verbs'].apply(lambda x: [verb for verb in given_verbs if verb in x])\n",
        "df['verbs_no'] = df['verbs'].apply(lambda x: [verb for verb in given_verbs if verb not in x])\n",
        "\n",
        "# 'verbs_yes'에서 해당되는 동사 문자열 전체를 리스트에 추가\n",
        "df['verbs_yes'] = df['verbs_yes'].apply(lambda x: [verb for verb in x])\n",
        "\n",
        "# 'verbs_no'에는 'verbs'에서 'verbs_yes'에 해당되는 동사 문자열을 뺀 모든 동사 문자열을 리스트로 넣어줌\n",
        "df['verbs_no'] = df.apply(lambda row: [verb if verb     in row['verbs_yes'] else verb + '다' for verb in row['verbs'].split()], axis=1)\n",
        "\n",
        "# 새로운 CSV 파일로 저장\n",
        "df.to_csv('food_recipe_verbs_indexed2.csv', index=False, encoding='utf-8')\n",
        "df.head\n",
        "print(\"food_recipe_verbs_indexed2.csv가 만들어졌습니다.\")\n"
      ],
      "metadata": {
        "id": "czBkHcLpsJlg"
      },
      "execution_count": null,
      "outputs": []
    },
    {
      "cell_type": "markdown",
      "source": [],
      "metadata": {
        "id": "p2IYjRx2zNhY"
      }
    },
    {
      "cell_type": "code",
      "source": [
        "## 내가 정한 단어가 들어가면, verbs yes 컬럼에 저장하도록 하는 파일\n",
        "\n",
        "import pandas as pd\n",
        "from konlpy.tag import Okt\n",
        "\n",
        "# CSV 파일 로드\n",
        "df = pd.read_csv('/content/drive/MyDrive/wimf/food_recipe_verbs_no_missing.csv', encoding='utf-8')\n",
        "\n",
        "# 주어진 동사 리스트\n",
        "given_verbs = ['자르', '잘라', '베', '썰', '볶', '다져', '다진', '삶', '끓', '섞', '씻', '찍', '익은', '익히', '넣', '썰', '뿌', '썰', '썹', '썬', '구워', '굽', '다듬', '섞', '자릅', '잘', '갈아', '튀겨', '튀']\n",
        "\n",
        "# 'verbs_yes'와 'verbs_no' 열 생성\n",
        "df['verbs_yes'] = df['verbs'].apply(lambda x: [verb for verb in given_verbs if verb in x])\n",
        "df['verbs_no'] = df['verbs'].apply(lambda x: [verb for verb in given_verbs if verb not in x])\n",
        "\n",
        "# 새로운 CSV 파일로 저장\n",
        "df.to_csv('food_recipe_verbs_indexed1.csv', index=False, encoding='utf-8')\n",
        "print(\"food_recipe_verbs_indexed1.csv가 만들어졌습니다.\")\n"
      ],
      "metadata": {
        "colab": {
          "base_uri": "https://localhost:8080/"
        },
        "id": "l6ebYkgdyzQ1",
        "outputId": "184453c4-98a4-4e33-d7a5-48eb80862a05"
      },
      "execution_count": null,
      "outputs": [
        {
          "output_type": "stream",
          "name": "stdout",
          "text": [
            "food_recipe_verbs_indexed1.csv가 만들어졌습니다.\n"
          ]
        }
      ]
    },
    {
      "cell_type": "code",
      "source": [
        "## 리스트가 제대로 인식되지 않아서 리스트 안 원소 개수를 알 수 없는 코드 => 아래 보완함\n",
        "\n",
        "import pandas as pd\n",
        "from konlpy.tag import Okt\n",
        "\n",
        "# CSV 파일 로드\n",
        "df = pd.read_csv('/content/drive/MyDrive/wimf/food_recipe_verbs_indexed1.csv', encoding='utf-8')\n",
        "\n",
        "# 'verbs_no' 컬럼 제거\n",
        "df = df.drop('verbs_no', axis=1)\n",
        "df = df.drop('food_recipe', axis=1)\n",
        "\n",
        "# 'verbs_yes' 리스트 안의 요소 개수를 세어서 새로운 컬럼 생성\n",
        "df['verbs_yes_count'] = df['verbs_yes'].apply(len)\n",
        "\n",
        "# # 새로운 CSV 파일로 저장\n",
        "# df.to_csv('food_recipe_verbs_indexed_count.csv', index=False, encoding='utf-8')\n",
        "# print(\"food_recipe_verbs_indexed_count.csv가 만들어졌습니다.\")\n",
        "\n",
        "df.head\n"
      ],
      "metadata": {
        "colab": {
          "base_uri": "https://localhost:8080/"
        },
        "id": "y3u1bh9F73kB",
        "outputId": "2792487b-871e-4ea5-a309-877fb21e899b"
      },
      "execution_count": null,
      "outputs": [
        {
          "output_type": "execute_result",
          "data": {
            "text/plain": [
              "<bound method NDFrame.head of     food_name                                              verbs  \\\n",
              "0         잡곡밥  ['넣어주세요', '센', '해주세요', '줄여', '해준', '꺼주세요', '두며...   \n",
              "1        옥수수밥  ['합니다', '베어', '내려주세요', '불립니다', '불린', '큰', '넣어주...   \n",
              "2         감자밥  ['잘게', '다져', '줍니다', '잘게', '다져', '줍니다', '잘게', '...   \n",
              "3          무밥  ['생기기', '짓기전', '적게', '넣어주세요', '했는데', '들은', '따라...   \n",
              "4       명란버터밥  ['썰어줘요', '두르고', '튀기다가', '해진다', '싶으면', '구웠던', '...   \n",
              "..        ...                                                ...   \n",
              "217       가츠동  ['합니다', '올릴', '썰어', '줍니다', '섞인', '섞어', '줍니다', ...   \n",
              "218        규동  ['개는', '썰어', '줍니다', '만들어주세요', '큰', '큰', '큰', '...   \n",
              "219       쌀국수  ['쥐어서', '가두고', '담아', '빼주세요', '담아', '씻은', '받쳐',...   \n",
              "220       팟타이  ['썰어서', '해주세요', '섞어주세요', '넣고', '불려주세요', '씻어주세요...   \n",
              "221        타코  ['들어갈', '해주세요', '잘게', '찢어서', '썰어서', '담궈놓습니다', ...   \n",
              "\n",
              "                                             verbs_yes  verbs_yes_count  \n",
              "0                                                ['넣']                5  \n",
              "1                            ['베', '끓', '넣', '뿌', '튀']               25  \n",
              "2                 ['볶', '다져', '삶', '섞', '넣', '섞', '잘']               36  \n",
              "3            ['썰', '다진', '섞', '넣', '썰', '썰', '썬', '섞']               41  \n",
              "4                 ['썰', '썰', '뿌', '썰', '구워', '잘', '튀']               36  \n",
              "..                                                 ...              ...  \n",
              "217  ['썰', '끓', '섞', '넣', '썰', '뿌', '썰', '섞', '튀겨',...               51  \n",
              "218               ['썰', '볶', '다진', '넣', '썰', '뿌', '썰']               36  \n",
              "219  ['썰', '볶', '다진', '섞', '씻', '넣', '썰', '썰', '썬',...               56  \n",
              "220     ['썰', '볶', '다진', '섞', '씻', '넣', '썰', '썰', '섞']               46  \n",
              "221          ['썰', '볶', '다진', '넣', '썰', '뿌', '썰', '잘']               41  \n",
              "\n",
              "[222 rows x 4 columns]>"
            ]
          },
          "metadata": {},
          "execution_count": 6
        }
      ]
    },
    {
      "cell_type": "code",
      "source": [
        "## 셀 안의 내용을 실제 리스트로 저장하기 위해서 ast 라이브러리를 import\n",
        "\n",
        "import ast"
      ],
      "metadata": {
        "id": "6AeszEGXJfyY"
      },
      "execution_count": null,
      "outputs": []
    },
    {
      "cell_type": "code",
      "source": [
        "## 예시 - 실제로 먹히는지\n",
        "\n",
        "df = pd.read_csv('/content/drive/MyDrive/wimf/food_recipe_verbs_indexed1.csv', encoding='utf-8')\n",
        "print(df['verbs_yes'][1])\n",
        "print(len(ast.literal_eval(df['verbs_yes'][1])))"
      ],
      "metadata": {
        "colab": {
          "base_uri": "https://localhost:8080/"
        },
        "id": "15ZK9WzoKOWN",
        "outputId": "c544a6bd-65a2-49ef-b235-5b47e3c2e40d"
      },
      "execution_count": null,
      "outputs": [
        {
          "output_type": "stream",
          "name": "stdout",
          "text": [
            "['베', '끓', '넣', '뿌', '튀']\n",
            "5\n"
          ]
        }
      ]
    },
    {
      "cell_type": "code",
      "source": [
        "## 동사 개수 세기 : 보완된 코드, 셀 안의 리스트가 문자열로 표현되어 있어 생겨나는 문제를 ast로 해결해서 리스트 안의 요소 수를 셀 수 있었음.\n",
        "\n",
        "import pandas as pd\n",
        "from konlpy.tag import Okt\n",
        "import ast\n",
        "\n",
        "# CSV 파일 로드\n",
        "df = pd.read_csv('/content/drive/MyDrive/wimf/food_recipe_verbs_indexed1.csv', encoding='utf-8')\n",
        "\n",
        "# 'verbs_no' 컬럼 제거\n",
        "df = df.drop('verbs_no', axis=1)\n",
        "df = df.drop('food_recipe', axis=1)\n",
        "\n",
        "# 'verbs_yes' 리스트 안의 요소 개수를 세어서 새로운 컬럼 생성\n",
        "df['verbs_yes_count'] = df['verbs_yes'].apply(lambda x: len(ast.literal_eval(x)))\n",
        "\n",
        "# 새로운 CSV 파일로 저장\n",
        "df.to_csv('food_recipe_verbs_indexed_count.csv', index=False, encoding='utf-8')\n",
        "print(\"food_recipe_verbs_indexed_count.csv가 만들어졌습니다.\")\n"
      ],
      "metadata": {
        "colab": {
          "base_uri": "https://localhost:8080/"
        },
        "id": "kHcE4z2GqpZQ",
        "outputId": "0497b7f8-90da-4c43-b4c6-70b3247d8cb5"
      },
      "execution_count": null,
      "outputs": [
        {
          "output_type": "stream",
          "name": "stdout",
          "text": [
            "food_recipe_verbs_indexed_count.csv가 만들어졌습니다.\n"
          ]
        }
      ]
    },
    {
      "cell_type": "code",
      "source": [
        "## 재료 개수 세기 : ast로 해결해서 리스트 안의 요소 수를 셀 수 있었음.\n",
        "\n",
        "import pandas as pd\n",
        "from konlpy.tag import Okt\n",
        "import ast\n",
        "\n",
        "# CSV 파일 로드\n",
        "df = pd.read_csv('/content/drive/MyDrive/wimf/N_food_dataframe_name_ingredient_cooking_nando.csv', encoding='utf-8')\n",
        "\n",
        "# 'ingredient_count' 리스트 안의 요소 개수를 세어서 새로운 컬럼 생성\n",
        "df['ingredient_count'] = df['ingredient_name_list'].apply(lambda x: len(ast.literal_eval(x)))\n",
        "\n",
        "# 새로 저장\n",
        "df.to_csv('/content/drive/MyDrive/wimf/N_food_dataframe_name_ingredient_cooking_nando.csv', index=False, encoding='utf-8')\n"
      ],
      "metadata": {
        "id": "9BnWvNZwLRBT"
      },
      "execution_count": null,
      "outputs": []
    },
    {
      "cell_type": "code",
      "source": [
        "import re"
      ],
      "metadata": {
        "id": "iRAhVSyHRA-A"
      },
      "execution_count": null,
      "outputs": []
    },
    {
      "cell_type": "code",
      "source": [
        "## 예시 : 문자열 속에서 정수 빼내기\n",
        "import re\n",
        "\n",
        "# 예시 문자열\n",
        "time_string = '60분 이내'\n",
        "\n",
        "# 정규표현식을 사용하여 숫자 추출\n",
        "match = re.search(r'\\d+', time_string)\n",
        "\n",
        "# 추출된 숫자 출력\n",
        "if match:\n",
        "    extracted_number = int(match.group())\n",
        "    print(extracted_number)\n",
        "else: # 없으면 None 출력\n",
        "    print(\"No number found in the string.\")\n"
      ],
      "metadata": {
        "id": "hYZ9auQ0Rpc4"
      },
      "execution_count": null,
      "outputs": []
    },
    {
      "cell_type": "code",
      "source": [
        "## 시간 정제해서 추출하기\n",
        "\n",
        "import pandas as pd\n",
        "import re\n",
        "\n",
        "# CSV 파일 로드\n",
        "df = pd.read_csv('/content/drive/MyDrive/wimf/N_food_dataframe_name_ingredient_cooking_nando.csv', encoding='utf-8')\n",
        "\n",
        "# 'cooking_time' 안의 숫자 추출하기\n",
        "df['clear_cook_time'] = df['cooking_time'].apply(lambda x: re.search(r'\\d+', str(x)).group() if re.search(r'\\d+', str(x)) else None)\n",
        "df.loc[df['clear_cook_time'] == '2', 'clear_cook_time'] = '120'\n",
        "\n",
        "# 새로 저장\n",
        "df.to_csv('/content/drive/MyDrive/wimf/N_food_dataframe_name_ingredient_cooking_nando.csv', index=False, encoding='utf-8')\n"
      ],
      "metadata": {
        "id": "C7fk5Vq4RX_A"
      },
      "execution_count": null,
      "outputs": []
    },
    {
      "cell_type": "code",
      "source": [
        "## 조리 시간에 정수 값이 없는 경우 따로 보기\n",
        "import pandas as pd\n",
        "\n",
        "# CSV 파일 로드\n",
        "df = pd.read_csv('/content/drive/MyDrive/wimf/N_food_dataframe_name_ingredient_cooking_nando.csv', encoding='utf-8')\n",
        "\n",
        "# 'clear_cook_time' 열이 None인 행만 필터링\n",
        "filtered_df = df[df['clear_cook_time'].isnull()]\n",
        "\n",
        "# 필터링된 DataFrame 출력\n",
        "print(filtered_df)\n"
      ],
      "metadata": {
        "id": "KMg2p8maUjsX"
      },
      "execution_count": null,
      "outputs": []
    },
    {
      "cell_type": "code",
      "source": [
        "## 원래 파일과 병합하기 위해 필요없는 셀 정리하기\n",
        "\n",
        "# CSV 파일 로드\n",
        "df = pd.read_csv('/content/drive/MyDrive/wimf/N_food_dataframe_name_ingredient_cooking_nando.csv', encoding='utf-8')\n",
        "\n",
        "# 특정 컬럼 삭제\n",
        "df = df.drop(['ingredient_name_list', 'cooking_time', 'amount_list'], axis=1)\n",
        "\n",
        "# 새로 저장\n",
        "df.to_csv('/content/drive/MyDrive/wimf/N_df.csv', index=False, encoding='utf-8')\n"
      ],
      "metadata": {
        "id": "3kmRvYe3XvV8"
      },
      "execution_count": null,
      "outputs": []
    },
    {
      "cell_type": "code",
      "source": [
        "## 두 CSV를 합쳐서 한 CSV로 만들기\n",
        "import pandas as pd\n",
        "\n",
        "df1 = pd.read_csv('/content/drive/MyDrive/wimf/N_df.csv', encoding='utf-8')\n",
        "df2 = pd.read_csv('/content/drive/MyDrive/wimf/C_food_recipe_verbs_indexed_count.csv', encoding='utf-8')\n",
        "\n",
        "# 필요없는 행 삭제\n",
        "df2 = df2.drop(['verbs','verbs_yes','food_name'], axis = 1)\n",
        "\n",
        "# 두 데이터프레임 합치기\n",
        "result_df = pd.concat([df1, df2], axis=1)\n",
        "\n",
        "# 새로운 파일로 저장\n",
        "result_df.to_csv('/content/drive/MyDrive/wimf/R_df.csv', index=False, encoding='utf-8')\n"
      ],
      "metadata": {
        "id": "uLfj4oljbWNv"
      },
      "execution_count": null,
      "outputs": []
    },
    {
      "cell_type": "code",
      "source": [
        "## 결측값 정리\n",
        "# CSV 파일 로드\n",
        "df = pd.read_csv('/content/drive/MyDrive/wimf/R_df.csv')\n",
        "\n",
        "# 결측값을 0으로 채우기\n",
        "df.fillna(0, inplace=True)\n",
        "\n",
        "# 'None'을 0으로 대체하기\n",
        "df.replace('None', 0, inplace=True)\n",
        "\n",
        "# 새로 저장\n",
        "df.to_csv('/content/drive/MyDrive/wimf/R_df.csv',  index=False, encoding='utf-8')"
      ],
      "metadata": {
        "id": "giJdPzdsgSWI"
      },
      "execution_count": null,
      "outputs": []
    },
    {
      "cell_type": "code",
      "source": [
        "import pandas as pd\n",
        "\n",
        "df = pd.read_csv('/content/drive/MyDrive/wimf/R_df_suj.csv',encoding='cp949')\n",
        "\n",
        "# 'clear_cook_time' 컬럼을 기준으로 데이터를 3개의 구간으로 나누기\n",
        "cut = pd.qcut(df['sum'], q=[0, 0.25, 0.75, 1])\n",
        "\n",
        "# 결과 확인\n",
        "cut.value_counts(sort=False)\n"
      ],
      "metadata": {
        "colab": {
          "base_uri": "https://localhost:8080/"
        },
        "id": "ydNrWOpJXXj_",
        "outputId": "bc008f70-bcd3-4f77-b17f-d1fd409e18f6"
      },
      "execution_count": null,
      "outputs": [
        {
          "output_type": "execute_result",
          "data": {
            "text/plain": [
              "(5.999, 17.0]     60\n",
              "(17.0, 27.0]     108\n",
              "(27.0, 45.0]      48\n",
              "Name: sum, dtype: int64"
            ]
          },
          "metadata": {},
          "execution_count": 17
        }
      ]
    },
    {
      "cell_type": "code",
      "source": [
        "import pandas as pd\n",
        "\n",
        "df = pd.read_csv('/content/drive/MyDrive/wimf/R_df_suj.csv', encoding='cp949')\n",
        "\n",
        "cut = pd.qcut(df['sum'], q=[0, 0.25, 0.75, 1])\n",
        "\n",
        "df['nando2'] = cut.map({ pd.Interval(5.999, 17.0, closed='right'): 1,\n",
        "                         pd.Interval(17.0, 27.0, closed='right'): 2,\n",
        "                         pd.Interval(27.0, 45.0, closed='right'): 3})\n",
        "\n",
        "print(df[['sum', 'nando2']])\n",
        "\n",
        "# CSV 파일 만들기\n",
        "df.to_csv('/content/drive/MyDrive/wimf/R_df_suj.csv',  index=False, encoding='utf-8')"
      ],
      "metadata": {
        "colab": {
          "base_uri": "https://localhost:8080/"
        },
        "id": "Fc0_Ukj3kWGO",
        "outputId": "10a5db00-955c-4e88-ea38-9ce4b3faab9d"
      },
      "execution_count": null,
      "outputs": [
        {
          "output_type": "stream",
          "name": "stdout",
          "text": [
            "      sum nando2\n",
            "0    15.5      1\n",
            "1    13.5      1\n",
            "2     9.5      1\n",
            "3    15.5      1\n",
            "4    10.5      1\n",
            "..    ...    ...\n",
            "211  38.0      3\n",
            "212  23.0      2\n",
            "213  32.0      3\n",
            "214  32.0      3\n",
            "215  45.0      3\n",
            "\n",
            "[216 rows x 2 columns]\n"
          ]
        }
      ]
    },
    {
      "cell_type": "code",
      "source": [
        "## 예시 - 실제로 먹히는지\n",
        "import ast\n",
        "import pandas as pd\n",
        "\n",
        "df = pd.read_csv('/content/drive/MyDrive/wimf/food_recipe_verbs_indexed1.csv', encoding='utf-8')\n",
        "print(len(df['verbs_yes'][1]))\n",
        "print(len(ast.literal_eval(df['verbs_yes'][1])))"
      ],
      "metadata": {
        "colab": {
          "base_uri": "https://localhost:8080/"
        },
        "id": "BKfkYReuvimK",
        "outputId": "4863d29c-f288-46b4-ed50-f89f48850ad4"
      },
      "execution_count": 3,
      "outputs": [
        {
          "output_type": "stream",
          "name": "stdout",
          "text": [
            "25\n",
            "5\n"
          ]
        }
      ]
    }
  ]
}